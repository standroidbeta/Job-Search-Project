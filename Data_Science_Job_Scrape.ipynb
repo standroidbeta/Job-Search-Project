{
 "cells": [
  {
   "cell_type": "code",
   "execution_count": 27,
   "metadata": {},
   "outputs": [
    {
     "name": "stdin",
     "output_type": "stream",
     "text": [
      "What City(ies) would you like to find jobs in?(Enter city name only and separate each city with a comma and replace spaces in the city name with a '+'.):\n",
      " Easley\n",
      "Enter The job title that you want to search for(Replace any spaces in the job title with a '+'):\n",
      " Data+Scientist\n"
     ]
    },
    {
     "name": "stdout",
     "output_type": "stream",
     "text": [
      "<Response [200]>\n",
      "Total Jobs Found:\n",
      " 11 \n",
      " Total Job Links Found:\n",
      " 11 \n",
      " Total Companies Found:\n",
      " 11 \n",
      " Total Locations Found:\n",
      " 11 \n",
      " Total Summaries Found:\n",
      " 11 \n",
      " Total Full Descriptions Found:\n",
      " 175 \n",
      "\n"
     ]
    }
   ],
   "source": [
    "import requests\n",
    "from bs4 import BeautifulSoup\n",
    "from selenium import webdriver\n",
    "from selenium.common.exceptions import ElementClickInterceptedException, TimeoutException, NoSuchElementException\n",
    "from selenium.webdriver.common.by import By\n",
    "from selenium.webdriver.support import expected_conditions as EC\n",
    "from selenium.webdriver.support.wait import WebDriverWait\n",
    "import time\n",
    "\n",
    "jobs = []\n",
    "job_links = []\n",
    "companies = []\n",
    "locations = []\n",
    "summaries = []\n",
    "full_descriptions = []\n",
    "\n",
    "max_results_per_city = 100\n",
    "\n",
    "city_set = [input(\"What City(ies) would you like to find jobs in?(Enter city name only and separate each city with a comma and replace spaces in the city name with a '+'.):\\n\")]\n",
    "# city_set = ['New+York','Chicago','San+Francisco', 'Austin', 'Seattle', 'Los+Angeles',\n",
    "#             'Philadelphia', 'Atlanta', 'Dallas', 'Pittsburgh', 'Portland', 'Phoenix',\n",
    "#             'Denver', 'Houston', 'Miami', 'Washington+DC', 'Boulder', 'Greenville',\n",
    "#             'Columbia', 'Charleston', 'Charlotte', 'Savannah','Spartanburg', 'Anderson',\n",
    "#            'Fort+Wayne', 'Indianapolis']\n",
    "search_job = input(\"Enter The job title that you want to search for(Replace any spaces in the job title with a '+'):\\n\")\n",
    "for city in city_set:\n",
    "    for start in range(0, max_results_per_city, 10):\n",
    "        page = requests.get(\"https://www.indeed.com/jobs?q=\"+search_job+\"&l=\"\n",
    "                            + str(city) + \"&start=\" + str(start))\n",
    "        time.sleep(1)\n",
    "        soup = BeautifulSoup(page.text, \"html.parser\")\n",
    "        # for each row\n",
    "        for div in soup.find_all(name=\"div\", attrs={\"class\":\"row\"}):\n",
    "            # Job title\n",
    "            for i in div.findAll(name=\"a\", attrs={\"data-tn-element\":\"jobTitle\"}):\n",
    "                job_title = i[\"title\"]\n",
    "                if len(job_title) > 0:\n",
    "                    jobs.append(job_title)\n",
    "                else:\n",
    "                    jobs.append('not found')\n",
    "            # Job Link        \n",
    "            for i in div.select('h2 > a', {'class':'jobtitle turnstileLink '}):\n",
    "                base_url = \"https://www.indeed.com\"\n",
    "                job_link = base_url + i['href']\n",
    "                if len(job_link) > 0:\n",
    "                    job_links.append(job_link)\n",
    "                else:\n",
    "                    job_links.append(\"not found\")\n",
    "            # Company    \n",
    "            for i in div.findAll(name=\"span\", attrs={\"class\":\"company\"}):\n",
    "                company = i.text.strip()\n",
    "                if len(company) > 0:\n",
    "                    companies.append(company)\n",
    "                else:\n",
    "                    companies.append('not found')\n",
    "            # Location\n",
    "            for i in div.findAll(\"div\", attrs={\"class\": \"recJobLoc\"}):\n",
    "                location = i['data-rc-loc']\n",
    "                if len(location) > 0:\n",
    "                    locations.append(location)\n",
    "                else:\n",
    "                    location.append('not found')\n",
    "            # Summary\n",
    "            for i in div.findAll(\"div\", attrs={\"class\": \"summary\"}):\n",
    "                summary = i.text.strip()\n",
    "                if len(summary) > 0:\n",
    "                    summaries.append(summary)\n",
    "                else:\n",
    "                    summary.append('not found')\n",
    "            # Full Description\n",
    "            for i in div.select(\"div\", attrs={\"class\": \"jobsearch-JobComponent icl-u-xs-mt--sm\"}):\n",
    "                full_description = i.text.strip()\n",
    "                if len(full_description) > 0:\n",
    "                    full_descriptions.append(full_description)\n",
    "                else:\n",
    "                    full_descriptions.append(\"not found\")\n",
    "\n",
    "print(page)\n",
    "print(\"Total Jobs Found:\\n\", len(jobs),\"\\n\",\n",
    "      \"Total Job Links Found:\\n\", len(job_links),\"\\n\",\n",
    "      \"Total Companies Found:\\n\", len(companies),\"\\n\",\n",
    "      \"Total Locations Found:\\n\", len(locations),\"\\n\", \n",
    "      \"Total Summaries Found:\\n\", len(summaries),\"\\n\",\n",
    "      \"Total Full Descriptions Found:\\n\", len(full_descriptions),\"\\n\")"
   ]
  },
  {
   "cell_type": "code",
   "execution_count": 7,
   "metadata": {},
   "outputs": [
    {
     "data": {
      "text/plain": [
       "['https://www.indeed.com/pagead/clk?mo=r&ad=-6NYlbfkN0CMCbaq4sO3ILtaBaIDilj-FPFE_AfVH9vxtcVne-aITA_pn9wt5iWpJqgQ7mTamusaJvv6fBvnp6k6uc36o71BKifd09SwCHJU8FbH6rJ2DCt6wSEP7WTwfBQUsyGul0j3LPesKDg_9G9WA_01Qh3gO7SGgn8nZwKtFphsJHuQdOs8yQ4jWKNoEI_K7wd6G_xcpPSFALm7Mea4n7M6E_TmRSXLgjGK_8yXTt-9_j3vL5NmSnBAYF_XlmSlJHzl_uydG1EQLQUpg91GqRTMsaHv5XHnMhR5BDeNhioWcD9wMTKOWjReFPnuJ9n1pKPCkOhBqvfxOTRwt9u4kv1t5uzZ8KjK9Vd58fShXgC45hNyU3GA67SCRz5cnm2_YB1odhTHsamosmv5TLgFL2_e0VhpdVt8x7AZumBEwomis9T9hJ5bXtxQ471k1uaqchdsmfQn-XlUS5Mu0R6Hvd2O9BdkQJYjZlkLH2I=&p=0&fvj=0&vjs=3',\n",
       " 'https://www.indeed.com/rc/clk?jk=17967f3c1d2839a8&fccid=1059c2aae8d976fc&vjs=3',\n",
       " 'https://www.indeed.com/pagead/clk?mo=r&ad=-6NYlbfkN0D_sybMACCpf9B-677oK5j6rPldVB6BlrVvFjO_o-GJZbzuF-qh4PxErFUqfUsv_6vh5ykke9EM_aWSOEpqKa6Isyb9x6iaKpl_B_6av_nkALhgkAoSQJ5w15O8gDePa-bzYUm-g3QZNTe_BLXY0vTO0-VZlP_-oxeTgArBqeWIztopSehQeJjd1bv2bcThZKVoTMP9ix-RiFmvfBIAY2mLgeF1p7EHNUEfiTUoolMpC5ffEoii9Js7sJ3P9rjM-q72J2Cr0cBhmjverdYIEMYJDR4XzYtfrY893sjp3lw7octAjSHQiaeabMxZ2XP4mYv3om-flFPYOhzC8DwPGzSPO-NqVLTlQyGBP52KJFcpG8uCk-yEpvd5gFTSkwW5erRP33qgxcli3BioAv2J5Wk5toqHPZHJHG8CeDSv8fNX79MWWHxrS1pMlK2703DO-gzvc8MqsANL_tpFrt8j8rdvM5v8wK-bU3h9jhVOG8dy4HplvmPhYLMy&p=2&fvj=0&vjs=3',\n",
       " 'https://www.indeed.com/rc/clk?jk=b899d5e3d25c45e1&fccid=82e58e9861d48566&vjs=3',\n",
       " 'https://www.indeed.com/rc/clk?jk=93354bf2cf8bc122&fccid=644000bf52ae09d4&vjs=3']"
      ]
     },
     "execution_count": 7,
     "metadata": {},
     "output_type": "execute_result"
    }
   ],
   "source": [
    "job_links[0:5]"
   ]
  },
  {
   "cell_type": "code",
   "execution_count": 8,
   "metadata": {
    "scrolled": true
   },
   "outputs": [
    {
     "name": "stdout",
     "output_type": "stream",
     "text": [
      "(130, 5)\n"
     ]
    },
    {
     "data": {
      "text/html": [
       "<div>\n",
       "<style scoped>\n",
       "    .dataframe tbody tr th:only-of-type {\n",
       "        vertical-align: middle;\n",
       "    }\n",
       "\n",
       "    .dataframe tbody tr th {\n",
       "        vertical-align: top;\n",
       "    }\n",
       "\n",
       "    .dataframe thead th {\n",
       "        text-align: right;\n",
       "    }\n",
       "</style>\n",
       "<table border=\"1\" class=\"dataframe\">\n",
       "  <thead>\n",
       "    <tr style=\"text-align: right;\">\n",
       "      <th></th>\n",
       "      <th>job_title</th>\n",
       "      <th>job_link</th>\n",
       "      <th>company</th>\n",
       "      <th>location</th>\n",
       "      <th>summary</th>\n",
       "    </tr>\n",
       "  </thead>\n",
       "  <tbody>\n",
       "    <tr>\n",
       "      <th>0</th>\n",
       "      <td>Data Scientist</td>\n",
       "      <td>https://www.indeed.com/pagead/clk?mo=r&amp;ad=-6NY...</td>\n",
       "      <td>Money Mart Financial Services</td>\n",
       "      <td>Atlanta, GA</td>\n",
       "      <td>Minimum 5 years of experience using SQL, R, Py...</td>\n",
       "    </tr>\n",
       "    <tr>\n",
       "      <th>1</th>\n",
       "      <td>Data Scientist</td>\n",
       "      <td>https://www.indeed.com/rc/clk?jk=17967f3c1d283...</td>\n",
       "      <td>Mailchimp</td>\n",
       "      <td>Atlanta, GA</td>\n",
       "      <td>Develop advanced machine learning, natural lan...</td>\n",
       "    </tr>\n",
       "    <tr>\n",
       "      <th>2</th>\n",
       "      <td>Data Scientist</td>\n",
       "      <td>https://www.indeed.com/pagead/clk?mo=r&amp;ad=-6NY...</td>\n",
       "      <td>Vaco</td>\n",
       "      <td>Atlanta, GA</td>\n",
       "      <td>Independently work with stakeholders to define...</td>\n",
       "    </tr>\n",
       "    <tr>\n",
       "      <th>3</th>\n",
       "      <td>Associate Data Scientist</td>\n",
       "      <td>https://www.indeed.com/rc/clk?jk=b899d5e3d25c4...</td>\n",
       "      <td>Home Depot / THD</td>\n",
       "      <td>Atlanta, GA</td>\n",
       "      <td>30% - Model Development and Deployment: Design...</td>\n",
       "    </tr>\n",
       "    <tr>\n",
       "      <th>4</th>\n",
       "      <td>Data Scientist</td>\n",
       "      <td>https://www.indeed.com/rc/clk?jk=93354bf2cf8bc...</td>\n",
       "      <td>CoStar Group</td>\n",
       "      <td>Atlanta, GA</td>\n",
       "      <td>As a Data Scientist on our analytics and data ...</td>\n",
       "    </tr>\n",
       "  </tbody>\n",
       "</table>\n",
       "</div>"
      ],
      "text/plain": [
       "                  job_title  \\\n",
       "0            Data Scientist   \n",
       "1            Data Scientist   \n",
       "2            Data Scientist   \n",
       "3  Associate Data Scientist   \n",
       "4            Data Scientist   \n",
       "\n",
       "                                            job_link  \\\n",
       "0  https://www.indeed.com/pagead/clk?mo=r&ad=-6NY...   \n",
       "1  https://www.indeed.com/rc/clk?jk=17967f3c1d283...   \n",
       "2  https://www.indeed.com/pagead/clk?mo=r&ad=-6NY...   \n",
       "3  https://www.indeed.com/rc/clk?jk=b899d5e3d25c4...   \n",
       "4  https://www.indeed.com/rc/clk?jk=93354bf2cf8bc...   \n",
       "\n",
       "                         company     location  \\\n",
       "0  Money Mart Financial Services  Atlanta, GA   \n",
       "1                      Mailchimp  Atlanta, GA   \n",
       "2                           Vaco  Atlanta, GA   \n",
       "3               Home Depot / THD  Atlanta, GA   \n",
       "4                   CoStar Group  Atlanta, GA   \n",
       "\n",
       "                                             summary  \n",
       "0  Minimum 5 years of experience using SQL, R, Py...  \n",
       "1  Develop advanced machine learning, natural lan...  \n",
       "2  Independently work with stakeholders to define...  \n",
       "3  30% - Model Development and Deployment: Design...  \n",
       "4  As a Data Scientist on our analytics and data ...  "
      ]
     },
     "execution_count": 8,
     "metadata": {},
     "output_type": "execute_result"
    }
   ],
   "source": [
    "import pandas as pd\n",
    "\n",
    "jobs = pd.DataFrame({'job_title':jobs,\n",
    "                     'job_link':job_links,\n",
    "                     'company':companies,\n",
    "                     'location':locations,\n",
    "                     'summary':summaries,\n",
    "                     # 'full_description': full_description\n",
    "                     }).drop_duplicates()\n",
    "print(jobs.shape)\n",
    "jobs.head()"
   ]
  },
  {
   "cell_type": "code",
   "execution_count": 17,
   "metadata": {
    "scrolled": true
   },
   "outputs": [
    {
     "name": "stdin",
     "output_type": "stream",
     "text": [
      "Enter filename:\n",
      " ds_jobs\n"
     ]
    }
   ],
   "source": [
    "import os\n",
    "\n",
    "if os.path.isdir('Result-Files'):\n",
    "    output_folder = 'Result-Files'\n",
    "else:\n",
    "    output_folder= os.mkdir('Result-Files')\n",
    "\n",
    "output_dir = os.path.join(parent_dir, output_folder)\n",
    "file_name = input(\"Enter filename:\\n\")\n",
    "jobs.to_excel(output_dir + '\\\\' + file_name + '.xlsx', index=False)"
   ]
  },
  {
   "cell_type": "code",
   "execution_count": 35,
   "metadata": {},
   "outputs": [],
   "source": [
    "from selenium import webdriver\n",
    "from selenium.webdriver.common.keys import Keys\n",
    "\n",
    "driver = webdriver.Chrome('C:\\\\Users\\\\SEEK\\\\chromedriver.exe')\n",
    "driver.get(\"http://www.python.org\")\n",
    "assert \"Python\" in driver.title\n",
    "elem = driver.find_element_by_name(\"q\")\n",
    "elem.clear()\n",
    "elem.send_keys(\"pycon\")\n",
    "elem.send_keys(Keys.RETURN)\n",
    "assert \"No results found.\" not in driver.page_source\n",
    "driver.close()"
   ]
  },
  {
   "cell_type": "code",
   "execution_count": null,
   "metadata": {},
   "outputs": [],
   "source": []
  }
 ],
 "metadata": {
  "kernelspec": {
   "display_name": "Python 3.9.1 (job_search_scrape)",
   "language": "python",
   "name": "job_search_scrape"
  },
  "language_info": {
   "codemirror_mode": {
    "name": "ipython",
    "version": 3
   },
   "file_extension": ".py",
   "mimetype": "text/x-python",
   "name": "python",
   "nbconvert_exporter": "python",
   "pygments_lexer": "ipython3",
   "version": "3.9.1"
  }
 },
 "nbformat": 4,
 "nbformat_minor": 4
}
