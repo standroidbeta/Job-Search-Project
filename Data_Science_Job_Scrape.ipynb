{
 "cells": [
  {
   "cell_type": "code",
   "execution_count": 2,
   "metadata": {},
   "outputs": [
    {
     "name": "stdin",
     "output_type": "stream",
     "text": [
      "What City(ies) would you like to find jobs in?(Enter city name only and seperate each city with a comma and replace spaces in the city name with a '+'.):\n",
      " Greenville, SC\n",
      "Enter The job title that you want to search for(Replace any spaces in the job title with a '+'):\n",
      " Physical+Therapist\n"
     ]
    },
    {
     "name": "stdout",
     "output_type": "stream",
     "text": [
      "<Response [200]>\n",
      "Total Jobs Found:\n",
      " 150 \n",
      " Total Job Links Found:\n",
      " 150 \n",
      " Total Companies Found:\n",
      " 150 \n",
      " Total Locations Found:\n",
      " 150 \n",
      " Total Summaries Found:\n",
      " 150 \n",
      "\n"
     ]
    }
   ],
   "source": [
    "import requests\n",
    "from bs4 import BeautifulSoup\n",
    "import time\n",
    "\n",
    "jobs = []\n",
    "job_links = []\n",
    "companies = []\n",
    "locations = []\n",
    "summaries = []\n",
    "\n",
    "max_results_per_city = 100\n",
    "\n",
    "city_set = input(\"What City(ies) would you like to find jobs in?(Enter city name only and seperate each city with a comma and replace spaces in the city name with a '+'.):\\n\")\n",
    "# city_set = ['New+York','Chicago','San+Francisco', 'Austin', 'Seattle', 'Los+Angeles',\n",
    "#             'Philadelphia', 'Atlanta', 'Dallas', 'Pittsburgh', 'Portland', 'Phoenix',\n",
    "#             'Denver', 'Houston', 'Miami', 'Washington+DC', 'Boulder', 'Greenville',\n",
    "#             'Columbia', 'Charleston', 'Charlotte', 'Savannah','Spartanburg', 'Anderson',\n",
    "#            'Fort+Wayne', 'Indianapolis']\n",
    "search_job = input(\"Enter The job title that you want to search for(Replace any spaces in the job title with a '+'):\\n\")\n",
    "for city in city_set:\n",
    "    for start in range(0, max_results_per_city, 10):\n",
    "        page = requests.get(\"https://www.indeed.com/jobs?q=\"+search_job+\"&l=\"\n",
    "                            + str(city) + \"&start=\" + str(start))\n",
    "        time.sleep(1)\n",
    "        soup = BeautifulSoup(page.text, \"html.parser\")\n",
    "        # for each row\n",
    "        for div in soup.find_all(name=\"div\", attrs={\"class\":\"row\"}):\n",
    "            # Job title\n",
    "            for i in div.findAll(name=\"a\", attrs={\"data-tn-element\":\"jobTitle\"}):\n",
    "                job_title = i[\"title\"]\n",
    "                if len(job_title) > 0:\n",
    "                    jobs.append(job_title)\n",
    "                else:\n",
    "                    jobs.append('not found')\n",
    "            # Job Link        \n",
    "            for i in div.select('h2 > a', {'class':'jobtitle turnstileLink '}):\n",
    "                base_url = \"https://www.indeed.com\"\n",
    "                job_link = base_url + i['href']\n",
    "                if len(job_link) > 0:\n",
    "                    job_links.append(job_link)\n",
    "                else:\n",
    "                    job_links.append(\"not found\")\n",
    "            # Company    \n",
    "            for i in div.findAll(name=\"span\", attrs={\"class\":\"company\"}):\n",
    "                company = i.text.strip()\n",
    "                if len(company) > 0:\n",
    "                    companies.append(company)\n",
    "                else:\n",
    "                    companies.append('not found')\n",
    "            # Location\n",
    "            for i in div.findAll(\"div\", attrs={\"class\": \"recJobLoc\"}):\n",
    "                location = i['data-rc-loc']\n",
    "                if len(location) > 0:\n",
    "                    locations.append(location)\n",
    "                else:\n",
    "                    location.append('not found')\n",
    "            # Summary\n",
    "            for i in div.findAll(\"div\", attrs={\"class\": \"summary\"}):\n",
    "                summary = i.text.strip()\n",
    "                if len(summary) > 0:\n",
    "                    summaries.append(summary)\n",
    "                else:\n",
    "                    summary.append('not found')\n",
    "\n",
    "print(page)\n",
    "print(\"Total Jobs Found:\\n\", len(jobs),\"\\n\",\n",
    "      \"Total Job Links Found:\\n\", len(job_links),\"\\n\",\n",
    "      \"Total Companies Found:\\n\", len(companies),\"\\n\",\n",
    "      \"Total Locations Found:\\n\", len(locations),\"\\n\", \n",
    "      \"Total Summaries Found:\\n\", len(summaries),\"\\n\")"
   ]
  },
  {
   "cell_type": "code",
   "execution_count": 3,
   "metadata": {},
   "outputs": [
    {
     "data": {
      "text/plain": [
       "['https://www.indeed.com/rc/clk?jk=2980cb04b567d8ba&fccid=41a3a93df3c370e2&vjs=3',\n",
       " 'https://www.indeed.com/company/TMF-Health-Quality-Institute/jobs/Contract-9344ba4759f28532?fccid=b6fda1dbf83c0e1f&vjs=3',\n",
       " 'https://www.indeed.com/pagead/clk?mo=r&ad=-6NYlbfkN0C64dkFqsluk_lSxUItCp_tASgGbEx-lZ696frLz3oeV8QUp8oGu823dnKIkL33JyVh5Rq_QyhmaaY4GlOitLlfMNwm5u2DaX24FBZCA6uFGzwurgdGg9ITQGbbg1DP8zKV4xVVHhs5Q9CypyPS0WmtkECGE6S5pfy4y10QBcVwPtd5XfTqQ-ufFtt3D3B1EeC3_BEF87zu6RT1WJ51EYypzpucsXNYTFMaSskot1vxddUVFEdlV5WVvEr_LjlYaApr9H5kLgDGlABov64AczrSviecEiSh2GzNZkC3xAZD1x79wUzjLxETOJmcy3X4j2FgjR3ghw2NexhvtiA8T9vcCiEHhasGYaopYMGLvPRBR6h2M3U1Jgc3IrMc9mwblu407OXHXDjoFoCLfaz7wb9FwFAhKgkq44_hTAs1fBUAgYaXpo8b3DHYLdxdtK41ecDbL3f3LJx4oA==&p=2&fvj=1&vjs=3',\n",
       " 'https://www.indeed.com/rc/clk?jk=86fbb3f4df2547d4&fccid=e18fa7bdce76abb2&vjs=3',\n",
       " 'https://www.indeed.com/rc/clk?jk=9d15c6dd87702bc3&fccid=e18fa7bdce76abb2&vjs=3']"
      ]
     },
     "execution_count": 3,
     "metadata": {},
     "output_type": "execute_result"
    }
   ],
   "source": [
    "job_links[0:5]"
   ]
  },
  {
   "cell_type": "code",
   "execution_count": 4,
   "metadata": {
    "scrolled": true
   },
   "outputs": [
    {
     "name": "stdout",
     "output_type": "stream",
     "text": [
      "(129, 5)\n"
     ]
    },
    {
     "data": {
      "text/html": [
       "<div>\n",
       "<style scoped>\n",
       "    .dataframe tbody tr th:only-of-type {\n",
       "        vertical-align: middle;\n",
       "    }\n",
       "\n",
       "    .dataframe tbody tr th {\n",
       "        vertical-align: top;\n",
       "    }\n",
       "\n",
       "    .dataframe thead th {\n",
       "        text-align: right;\n",
       "    }\n",
       "</style>\n",
       "<table border=\"1\" class=\"dataframe\">\n",
       "  <thead>\n",
       "    <tr style=\"text-align: right;\">\n",
       "      <th></th>\n",
       "      <th>job_title</th>\n",
       "      <th>job_link</th>\n",
       "      <th>company</th>\n",
       "      <th>location</th>\n",
       "      <th>summary</th>\n",
       "    </tr>\n",
       "  </thead>\n",
       "  <tbody>\n",
       "    <tr>\n",
       "      <th>0</th>\n",
       "      <td>Physical Therapist</td>\n",
       "      <td>https://www.indeed.com/rc/clk?jk=2980cb04b567d...</td>\n",
       "      <td>Acestack LLC</td>\n",
       "      <td>Pickens, SC</td>\n",
       "      <td>Consulting with patients to learn about their ...</td>\n",
       "    </tr>\n",
       "    <tr>\n",
       "      <th>1</th>\n",
       "      <td>Contract - Physical Therapist Case Reviewer - ...</td>\n",
       "      <td>https://www.indeed.com/company/TMF-Health-Qual...</td>\n",
       "      <td>TMF Health Quality Institute</td>\n",
       "      <td>Austin, TX</td>\n",
       "      <td>Performs advanced (senior-level) work.\\nProvid...</td>\n",
       "    </tr>\n",
       "    <tr>\n",
       "      <th>2</th>\n",
       "      <td>Physical Therapist</td>\n",
       "      <td>https://www.indeed.com/pagead/clk?mo=r&amp;ad=-6NY...</td>\n",
       "      <td>Halcyon Rehabilitation</td>\n",
       "      <td>Piedmont, SC</td>\n",
       "      <td>Life Insurance – 100% company paid.\\nExtremely...</td>\n",
       "    </tr>\n",
       "    <tr>\n",
       "      <th>3</th>\n",
       "      <td>Physical Therapist I: Roger C. Peace, Full Tim...</td>\n",
       "      <td>https://www.indeed.com/rc/clk?jk=86fbb3f4df254...</td>\n",
       "      <td>Prisma Health</td>\n",
       "      <td>Greenville, SC</td>\n",
       "      <td>Performs appropriate initial physical therapy ...</td>\n",
       "    </tr>\n",
       "    <tr>\n",
       "      <th>4</th>\n",
       "      <td>Physical Therapist (PRN): Baptist Easley, Week...</td>\n",
       "      <td>https://www.indeed.com/rc/clk?jk=9d15c6dd87702...</td>\n",
       "      <td>Prisma Health</td>\n",
       "      <td>Easley, SC</td>\n",
       "      <td>Performs appropriate initial physical therapy ...</td>\n",
       "    </tr>\n",
       "  </tbody>\n",
       "</table>\n",
       "</div>"
      ],
      "text/plain": [
       "                                           job_title  \\\n",
       "0                                 Physical Therapist   \n",
       "1  Contract - Physical Therapist Case Reviewer - ...   \n",
       "2                                 Physical Therapist   \n",
       "3  Physical Therapist I: Roger C. Peace, Full Tim...   \n",
       "4  Physical Therapist (PRN): Baptist Easley, Week...   \n",
       "\n",
       "                                            job_link  \\\n",
       "0  https://www.indeed.com/rc/clk?jk=2980cb04b567d...   \n",
       "1  https://www.indeed.com/company/TMF-Health-Qual...   \n",
       "2  https://www.indeed.com/pagead/clk?mo=r&ad=-6NY...   \n",
       "3  https://www.indeed.com/rc/clk?jk=86fbb3f4df254...   \n",
       "4  https://www.indeed.com/rc/clk?jk=9d15c6dd87702...   \n",
       "\n",
       "                        company        location  \\\n",
       "0                  Acestack LLC     Pickens, SC   \n",
       "1  TMF Health Quality Institute      Austin, TX   \n",
       "2        Halcyon Rehabilitation    Piedmont, SC   \n",
       "3                 Prisma Health  Greenville, SC   \n",
       "4                 Prisma Health      Easley, SC   \n",
       "\n",
       "                                             summary  \n",
       "0  Consulting with patients to learn about their ...  \n",
       "1  Performs advanced (senior-level) work.\\nProvid...  \n",
       "2  Life Insurance – 100% company paid.\\nExtremely...  \n",
       "3  Performs appropriate initial physical therapy ...  \n",
       "4  Performs appropriate initial physical therapy ...  "
      ]
     },
     "execution_count": 4,
     "metadata": {},
     "output_type": "execute_result"
    }
   ],
   "source": [
    "import pandas as pd\n",
    "\n",
    "jobs = pd.DataFrame({'job_title':jobs,\n",
    "                     'job_link':job_links,\n",
    "                     'company':companies,\n",
    "                     'location':locations,\n",
    "                     'summary':summaries}).drop_duplicates()\n",
    "print(jobs.shape)\n",
    "jobs.head()"
   ]
  },
  {
   "cell_type": "code",
   "execution_count": 5,
   "metadata": {
    "scrolled": true
   },
   "outputs": [
    {
     "name": "stdin",
     "output_type": "stream",
     "text": [
      "Enter filename with extension:\n",
      " Physical-Therapy_Jobs.xlsx\n"
     ]
    }
   ],
   "source": [
    "file_name = input(\"Enter filename with extension:\\n\")\n",
    "jobs.to_excel(file_name, index=False)"
   ]
  },
  {
   "cell_type": "code",
   "execution_count": null,
   "metadata": {},
   "outputs": [],
   "source": []
  }
 ],
 "metadata": {
  "kernelspec": {
   "display_name": "Python 3.9.1 (job_search_scrape)",
   "language": "python",
   "name": "job_search_scrape"
  },
  "language_info": {
   "codemirror_mode": {
    "name": "ipython",
    "version": 3
   },
   "file_extension": ".py",
   "mimetype": "text/x-python",
   "name": "python",
   "nbconvert_exporter": "python",
   "pygments_lexer": "ipython3",
   "version": "3.9.1"
  }
 },
 "nbformat": 4,
 "nbformat_minor": 4
}
