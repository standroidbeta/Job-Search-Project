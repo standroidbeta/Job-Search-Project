{
 "cells": [
  {
   "cell_type": "code",
   "execution_count": 1,
   "metadata": {},
   "outputs": [],
   "source": [
    "import requests\n",
    "from bs4 import BeautifulSoup\n",
    "from selenium import webdriver\n",
    "from selenium.common.exceptions import ElementClickInterceptedException, TimeoutException, NoSuchElementException\n",
    "from selenium.webdriver.common.by import By\n",
    "from selenium.webdriver.support import expected_conditions as EC\n",
    "from selenium.webdriver.support.wait import WebDriverWait\n",
    "from decouple import config\n",
    "import time"
   ]
  },
  {
   "cell_type": "code",
   "execution_count": 2,
   "metadata": {
    "scrolled": true
   },
   "outputs": [
    {
     "output_type": "stream",
     "name": "stdout",
     "text": [
      "Total Jobs Found:\n 15\n"
     ]
    }
   ],
   "source": [
    "jobs = []\n",
    "job_links = []\n",
    "companies = []\n",
    "locations = []\n",
    "summaries = []\n",
    "full_descriptions = []\n",
    "\n",
    "max_results_per_city = 100\n",
    "\n",
    "city_set = [input(\"What City(ies) would you like to find jobs in?(Enter city name only and separate each city with a comma and replace spaces in the city name with a '+'.):\\n\")]\n",
    "# city_set = ['New+York','Chicago','San+Francisco', 'Austin', 'Seattle', 'Los+Angeles',\n",
    "#             'Philadelphia', 'Atlanta', 'Dallas', 'Pittsburgh', 'Portland', 'Phoenix',\n",
    "#             'Denver', 'Houston', 'Miami', 'Washington+DC', 'Boulder', 'Greenville',\n",
    "#             'Columbia', 'Charleston', 'Charlotte', 'Savannah','Spartanburg', 'Anderson',\n",
    "#            'Fort+Wayne', 'Indianapolis']\n",
    "search_job = input(\"Enter The job title that you want to search for(Replace any spaces in the job title with a '+'):\\n\")\n",
    "for city in city_set:\n",
    "    for start in range(0, max_results_per_city, 10):\n",
    "        page = requests.get(\"https://www.indeed.com/jobs?q=\"+search_job+\"&l=\"\n",
    "                            + str(city) + \"&start=\" + str(start))\n",
    "        time.sleep(1)\n",
    "        soup = BeautifulSoup(page.text, \"html.parser\")\n",
    "        # for each row\n",
    "        for div in soup.find_all(name=\"div\", attrs={\"class\":\"row\"}):\n",
    "            # Job title\n",
    "            for i in div.findAll(name=\"a\", attrs={\"data-tn-element\":\"jobTitle\"}):\n",
    "                job_title = i[\"title\"]\n",
    "                if len(job_title) > 0:\n",
    "                    jobs.append(job_title)\n",
    "                else:\n",
    "                    jobs.append('not found')\n",
    "            # Job Link        \n",
    "            for i in div.select('h2 > a', {'class':'jobtitle turnstileLink '}):\n",
    "                base_url = \"https://www.indeed.com\"\n",
    "                job_link = base_url + i['href']\n",
    "                if len(job_link) > 0:\n",
    "                    job_links.append(job_link)\n",
    "                else:\n",
    "                    job_links.append(\"not found\")\n",
    "            # Company    \n",
    "            for i in div.findAll(name=\"span\", attrs={\"class\":\"company\"}):\n",
    "                company = i.text.strip()\n",
    "                if len(company) > 0:\n",
    "                    companies.append(company)\n",
    "                else:\n",
    "                    companies.append('not found')\n",
    "            # Location\n",
    "            for i in div.findAll(\"div\", attrs={\"class\": \"recJobLoc\"}):\n",
    "                location = i['data-rc-loc']\n",
    "                if len(location) > 0:\n",
    "                    locations.append(location)\n",
    "                else:\n",
    "                    location.append('not found')\n",
    "            # Summary\n",
    "            for i in div.findAll(\"div\", attrs={\"class\": \"summary\"}):\n",
    "                summary = i.text.strip()\n",
    "                if len(summary) > 0:\n",
    "                    summaries.append(summary)\n",
    "                else:\n",
    "                    summary.append('not found')\n",
    "# Job Descriptions\n",
    "for link in job_links:\n",
    "    link_page = requests.get(link)\n",
    "    time.sleep(1)\n",
    "    link_soup = BeautifulSoup(link_page.content, \"html.parser\")\n",
    "    desc = link_soup.select('div', {'class':'jobsearch-JobDescriptionText'})\n",
    "    text = [e.get_text() for e in desc]\n",
    "    jd = [x.replace('\\n', ' ') for x in text]\n",
    "    full_descriptions.append(jd)\n",
    "\n",
    "print(\"Total Jobs Found:\\n\", len(jobs))"
   ]
  },
  {
   "cell_type": "code",
   "execution_count": 3,
   "metadata": {},
   "outputs": [
    {
     "output_type": "execute_result",
     "data": {
      "text/plain": [
       "ompany for help instead of having to call or email? Us too! That’s exactly why Quiq was founded. We strive to make everyone’s life easier by providing companies with a messaging platform Of note, our leadership team is extremely experienced in the customer service and customer experience marketspace, with numerous successes under their belt. As we continue to build Quiq, there’s a perfect spot for you to grow with us.Our MissionOur mission is to improve the way customers communicate with companies. We believe mobile message-driven communications will replace a significant portion of traditional phone and email interactions, reducing costs while improving customer satisfaction. Quiq makes it easy for customers to contact a business via messaging, the preferred channel already in use with our friends and family.Data ScientistQuiq is looking for an experienced and creative data scientist to become a foundational member of our team. We already have the product and a large and rapidly growing dataset - now it’s time to do some machine learning!Our novel dataset consists of millions of anonymized textual interactions between businesses and their customers, augmented by valuable structured data and important events. We’re looking for someone who can help us leverage this data to automate and streamline conversations, thereby enabling businesses to provide their customers with a better experience while simultaneously reducing costs.If you’re passionate about NLP and machine learning and you’re likewise passionate about building impactful solutions to real-world problems, this is your opportunity. As our first full-time data scientist, you’ll have the opportunity to shape our product and our ML infrastructure and operations.Desired Skills & Experience: 5+ years of industry experience in machine learning2+ years of industry experience working on NLP projectsExpertise in deep learning techniques and frameworksExperience with sequence to sequence learningKnowledge of the latest trends, pre-trained models and best practices in NLPSolid computer science and coding skillsExperience productizing training pipelines in a multi-tenant environment a plusThe ideal candidate: Thrives in low-control, high accountability settingsPossesses a builder mentality and is willing to roll up their sleevesValues the ideal solution and the pragmatic solution and helps the business make the best decisions along the wayBenefits and Perks100% company paid family medical and 100% individual dental and vision insurance coverageMarket competitive total compensation packageFlexible, unlimited vacation policyStock optionsQuiq is an equal opportunity employer. We are a welcoming place for everyone, and we do our best to make sure people feel supported and connected at work. Applicants need to have the authority to work in the US. As we are early stage, immigration sponsorship is not available.Job Type: Full-timePay: $0.00 per yearBenefits:401(k)Dental insuranceDisability insuranceEmployee assistance programFlexible scheduleFlexible spending accountHealth insuranceLife insurancePaid time offParental leaveVision insuranceSchedule:8 hour shiftMonday to FridayCOVID-19 considerations:Our employees are all working remote at this time to ensure the safety of each employee and their families.Work Location:Fully RemoteCompany's website:Quiq.comBenefit Conditions:Only full-time employees eligibleCOVID-19 Precaution(s):Remote interview processVirtual meetings21 days agoIf you require alternative methods of application or screening, you must approach the employer directly to request this as Indeed is not responsible for the employer's application process.Report jobApply NowApply NowSave this jobSave this jobData Scientist jobs in United StatesJobs at Quiq in United StatesData Scientist salaries in United States\",\n",
       " \"Data ScientistQuiq IncUnited StatesRemoteResponded to 51-74% of applications in the past 30 days, typically within 3 days.Job detailsJob TypeFull-timeNumber of hires for this role1Full Job DescriptionCompany DescriptionQuiq is a fast-growing technology company based in Bozeman, MT. We make it easy for consumers to engage with companies via text messaging. Do you ever wish you could just message a company for help instead of having to call or email? Us too! That’s exactly why Quiq was founded. We strive to make everyone’s life easier by providing companies with a messaging platform Of note, our leadership team is extremely experienced in the customer service and customer experience marketspace, with numerous successes under their belt. As we continue to build Quiq, there’s a perfect spot for you to grow with us.Our MissionOur mission is to improve the way customers communicate with companies. We believe mobile message-driven communications will replace a significant portion of traditional phone and email interactions, reducing costs while improving customer satisfaction. Quiq makes it easy for customers to contact a business via messaging, the preferred channel already in use with our friends and family.Data ScientistQuiq is looking for an experienced and creative data scientist to become a foundational member of our team. We already have the product and a large and rapidly growing dataset - now it’s time to do some machine learning!Our novel dataset consists of millions of anonymized textual interactions between businesses and their customers, augmented by valuable structured data and important events. We’re looking for someone who can help us leverage this data to automate and streamline conversations, thereby enabling businesses to provide their customers with a better experience while simultaneously reducing costs.If you’re passionate about NLP and machine learning and you’re likewise passionate about building impactful solutions to real-world problems, this is your opportunity. As our first full-time data scientist, you’ll have the opportunity to shape our product and our ML infrastructure and operations.Desired Skills & Experience: 5+ years of industry experience in machine learning2+ years of industry experience working on NLP projectsExpertise in deep learning techniques and frameworksExperience with sequence to sequence learningKnowledge of the latest trends, pre-trained models and best practices in NLPSolid computer science and coding skillsExperience productizing training pipelines in a multi-tenant environment a plusThe ideal candidate: Thrives in low-control, high accountability settingsPossesses a builder mentality and is willing to roll up their sleevesValues the ideal solution and the pragmatic solution and helps the business make the best decisions along the wayBenefits and Perks100% company paid family medical and 100% individual dental and vision insurance coverageMarket competitive total compensation packageFlexible, unlimited vacation policyStock optionsQuiq is an equal opportunity employer. We are a welcoming place for everyone, and we do our best to make sure people feel supported and connected at work. Applicants need to have the authority to work in the US. As we are early stage, immigration sponsorship is not available.Job Type: Full-timePay: $0.00 per yearBenefits:401(k)Dental insuranceDisability insuranceEmployee assistance programFlexible scheduleFlexible spending accountHealth insuranceLife insurancePaid time offParental leaveVision insuranceSchedule:8 hour shiftMonday to FridayCOVID-19 considerations:Our employees are all working remote at this time to ensure the safety of each employee and their families.Work Location:Fully RemoteCompany's website:Quiq.comBenefit Conditions:Only full-time employees eligibleCOVID-19 Precaution(s):Remote interview processVirtual meetings21 days agoIf you require alternative methods of application or screening, you must approach the employer directly to request this as Indeed is not responsible for the employer's application process.Report jobApply NowApply NowSave this jobSave this job\",\n",
       " '',\n",
       " '',\n",
       " 'Data ScientistQuiq IncUnited StatesRemoteResponded to 51-74% of applications in the past 30 days, typically within 3 days.',\n",
       " 'Data ScientistQuiq IncUnited StatesRemote',\n",
       " 'Data Scientist',\n",
       " 'Quiq IncUnited StatesRemote',\n",
       " 'Quiq IncUnited StatesRemote',\n",
       " 'Quiq IncUnited StatesRemote',\n",
       " 'Quiq Inc',\n",
       " 'Quiq Inc',\n",
       " 'United States',\n",
       " 'Remote',\n",
       " 'Responded to 51-74% of applications in the past 30 days, typically within 3 days.',\n",
       " 'Responded to 51-74% of applications in the past 30 days, typically within 3 days.',\n",
       " 'Responded to 51-74% of applications in the past 30 days, typically within 3 days.',\n",
       " '',\n",
       " 'Responded to 51-74% of applications in the past 30 days, typically within 3 days.',\n",
       " 'Responded to 51-74% of applications in the past 30 days, typically within 3 days.',\n",
       " '',\n",
       " '',\n",
       " '',\n",
       " '',\n",
       " \"Job detailsJob TypeFull-timeNumber of hires for this role1Full Job DescriptionCompany DescriptionQuiq is a fast-growing technology company based in Bozeman, MT. We make it easy for consumers to engage with companies via text messaging. Do you ever wish you could just message a company for help instead of having to call or email? Us too! That’s exactly why Quiq was founded. We strive to make everyone’s life easier by providing companies with a messaging platform Of note, our leadership team is extremely experienced in the customer service and customer experience marketspace, with numerous successes under their belt. As we continue to build Quiq, there’s a perfect spot for you to grow with us.Our MissionOur mission is to improve the way customers communicate with companies. We believe mobile message-driven communications will replace a significant portion of traditional phone and email interactions, reducing costs while improving customer satisfaction. Quiq makes it easy for customers to contact a business via messaging, the preferred channel already in use with our friends and family.Data ScientistQuiq is looking for an experienced and creative data scientist to become a foundational member of our team. We already have the product and a large and rapidly growing dataset - now it’s time to do some machine learning!Our novel dataset consists of millions of anonymized textual interactions between businesses and their customers, augmented by valuable structured data and important events. We’re looking for someone who can help us leverage this data to automate and streamline conversations, thereby enabling businesses to provide their customers with a better experience while simultaneously reducing costs.If you’re passionate about NLP and machine learning and you’re likewise passionate about building impactful solutions to real-world problems, this is your opportunity. As our first full-time data scientist, you’ll have the opportunity to shape our product and our ML infrastructure and operations.Desired Skills & Experience: 5+ years of industry experience in machine learning2+ years of industry experience working on NLP projectsExpertise in deep learning techniques and frameworksExperience with sequence to sequence learningKnowledge of the latest trends, pre-trained models and best practices in NLPSolid computer science and coding skillsExperience productizing training pipelines in a multi-tenant environment a plusThe ideal candidate: Thrives in low-control, high accountability settingsPossesses a builder mentality and is willing to roll up their sleevesValues the ideal solution and the pragmatic solution and helps the business make the best decisions along the wayBenefits and Perks100% company paid family medical and 100% individual dental and vision insurance coverageMarket competitive total compensation packageFlexible, unlimited vacation policyStock optionsQuiq is an equal opportunity employer. We are a welcoming place for everyone, and we do our best to make sure people feel supported and connected at work. Applicants need to have the authority to work in the US. As we are early stage, immigration sponsorship is not available.Job Type: Full-timePay: $0.00 per yearBenefits:401(k)Dental insuranceDisability insuranceEmployee assistance programFlexible scheduleFlexible spending accountHealth insuranceLife insurancePaid time offParental leaveVision insuranceSchedule:8 hour shiftMonday to FridayCOVID-19 considerations:Our employees are all working remote at this time to ensure the safety of each employee and their families.Work Location:Fully RemoteCompany's website:Quiq.comBenefit Conditions:Only full-time employees eligibleCOVID-19 Precaution(s):Remote interview processVirtual meetings\",\n",
       " '',\n",
       " 'Job detailsJob TypeFull-timeNumber of hires for this role1',\n",
       " 'Job detailsJob TypeFull-timeNumber of hires for this role1',\n",
       " 'Job details',\n",
       " 'Job TypeFull-time',\n",
       " 'Job Type',\n",
       " 'Full-time',\n",
       " 'Number of hires for this role1',\n",
       " 'Number of hires for this role',\n",
       " '1',\n",
       " \"Company DescriptionQuiq is a fast-growing technology company based in Bozeman, MT. We make it easy for consumers to engage with companies via text messaging. Do you ever wish you could just message a company for help instead of having to call or email? Us too! That’s exactly why Quiq was founded. We strive to make everyone’s life easier by providing companies with a messaging platform Of note, our leadership team is extremely experienced in the customer service and customer experience marketspace, with numerous successes under their belt. As we continue to build Quiq, there’s a perfect spot for you to grow with us.Our MissionOur mission is to improve the way customers communicate with companies. We believe mobile message-driven communications will replace a significant portion of traditional phone and email interactions, reducing costs while improving customer satisfaction. Quiq makes it easy for customers to contact a business via messaging, the preferred channel already in use with our friends and family.Data ScientistQuiq is looking for an experienced and creative data scientist to become a foundational member of our team. We already have the product and a large and rapidly growing dataset - now it’s time to do some machine learning!Our novel dataset consists of millions of anonymized textual interactions between businesses and their customers, augmented by valuable structured data and important events. We’re looking for someone who can help us leverage this data to automate and streamline conversations, thereby enabling businesses to provide their customers with a better experience while simultaneously reducing costs.If you’re passionate about NLP and machine learning and you’re likewise passionate about building impactful solutions to real-world problems, this is your opportunity. As our first full-time data scientist, you’ll have the opportunity to shape our product and our ML infrastructure and operations.Desired Skills & Experience: 5+ years of industry experience in machine learning2+ years of industry experience working on NLP projectsExpertise in deep learning techniques and frameworksExperience with sequence to sequence learningKnowledge of the latest trends, pre-trained models and best practices in NLPSolid computer science and coding skillsExperience productizing training pipelines in a multi-tenant environment a plusThe ideal candidate: Thrives in low-control, high accountability settingsPossesses a builder mentality and is willing to roll up their sleevesValues the ideal solution and the pragmatic solution and helps the business make the best decisions along the wayBenefits and Perks100% company paid family medical and 100% individual dental and vision insurance coverageMarket competitive total compensation packageFlexible, unlimited vacation policyStock optionsQuiq is an equal opportunity employer. We are a welcoming place for everyone, and we do our best to make sure people feel supported and connected at work. Applicants need to have the authority to work in the US. As we are early stage, immigration sponsorship is not available.Job Type: Full-timePay: $0.00 per yearBenefits:401(k)Dental insuranceDisability insuranceEmployee assistance programFlexible scheduleFlexible spending accountHealth insuranceLife insurancePaid time offParental leaveVision insuranceSchedule:8 hour shiftMonday to FridayCOVID-19 considerations:Our employees are all working remote at this time to ensure the safety of each employee and their families.Work Location:Fully RemoteCompany's website:Quiq.comBenefit Conditions:Only full-time employees eligibleCOVID-19 Precaution(s):Remote interview processVirtual meetings\",\n",
       " '',\n",
       " '',\n",
       " '',\n",
       " '',\n",
       " '',\n",
       " \"21 days agoIf you require alternative methods of application or screening, you must approach the employer directly to request this as Indeed is not responsible for the employer's application process.Report job\",\n",
       " '',\n",
       " \"21 days agoIf you require alternative methods of application or screening, you must approach the employer directly to request this as Indeed is not responsible for the employer's application process.Report job\",\n",
       " '21 days ago',\n",
       " \"If you require alternative methods of application or screening, you must approach the employer directly to request this as Indeed is not responsible for the employer's application process.\",\n",
       " 'Report job',\n",
       " 'Report job',\n",
       " 'Report job',\n",
       " '',\n",
       " '',\n",
       " '',\n",
       " 'Apply NowApply NowSave this jobSave this job',\n",
       " 'Apply NowApply NowSave this jobSave this job',\n",
       " '',\n",
       " 'Apply NowApply Now',\n",
       " 'Apply NowApply Now',\n",
       " 'Apply Now',\n",
       " 'Apply Now',\n",
       " 'Apply Now',\n",
       " 'Apply Now',\n",
       " 'Save this jobSave this job',\n",
       " 'Save this jobSave this job',\n",
       " 'Save this jobSave this job',\n",
       " 'Save this jobSave this job',\n",
       " 'Save this job',\n",
       " 'Save this job',\n",
       " '',\n",
       " '',\n",
       " '',\n",
       " 'Data Scientist jobs in United StatesJobs at Quiq in United StatesData Scientist salaries in United States',\n",
       " 'Data Scientist jobs in United StatesJobs at Quiq in United StatesData Scientist salaries in United States',\n",
       " 'Data Scientist jobs in United StatesJobs at Quiq in United StatesData Scientist salaries in United States',\n",
       " 'Data Scientist jobs in United States',\n",
       " 'Jobs at Quiq in United States',\n",
       " 'Data Scientist salaries in United States',\n",
       " 'Company InfoFollowGet job updates from Quiq IncLet employers find youThousands of employers search for candidates on IndeedUpload your resume',\n",
       " 'Company InfoFollowGet job updates from Quiq Inc',\n",
       " 'Company InfoFollowGet job updates from Quiq Inc',\n",
       " 'Company InfoFollowGet job updates from Quiq Inc',\n",
       " 'Company Info',\n",
       " 'FollowGet job updates from Quiq Inc',\n",
       " 'FollowGet job updates from Quiq Inc',\n",
       " 'Follow',\n",
       " 'Get job updates from Quiq Inc',\n",
       " 'Let employers find youThousands of employers search for candidates on IndeedUpload your resume',\n",
       " 'Let employers find youThousands of employers search for candidates on IndeedUpload your resume',\n",
       " 'Let employers find youThousands of employers search for candidates on IndeedUpload your resume',\n",
       " 'Let employers find you',\n",
       " 'Thousands of employers search for candidates on IndeedUpload your resume',\n",
       " 'Thousands of employers search for candidates on Indeed',\n",
       " 'Upload your resume',\n",
       " '',\n",
       " '',\n",
       " '',\n",
       " 'Hiring LabCareer AdviceBrowse JobsBrowse CompaniesSalariesFind CertificationsIndeed EventsWork at IndeedCountriesAboutHelp Center© 2021 IndeedDo Not Sell My Personal InformationAccessibility at IndeedPrivacy CenterCookiesPrivacyTermsLet Employers Find YouUpload Your Resume',\n",
       " 'Hiring LabCareer AdviceBrowse JobsBrowse CompaniesSalariesFind CertificationsIndeed EventsWork at IndeedCountriesAboutHelp Center© 2021 IndeedDo Not Sell My Personal InformationAccessibility at IndeedPrivacy CenterCookiesPrivacyTerms',\n",
       " 'Hiring LabCareer AdviceBrowse JobsBrowse CompaniesSalariesFind CertificationsIndeed EventsWork at IndeedCountriesAboutHelp Center© 2021 IndeedDo Not Sell My Personal InformationAccessibility at IndeedPrivacy CenterCookiesPrivacyTerms',\n",
       " 'Hiring LabCareer AdviceBrowse JobsBrowse CompaniesSalariesFind CertificationsIndeed EventsWork at IndeedCountriesAboutHelp Center© 2021 IndeedDo Not Sell My Personal InformationAccessibility at IndeedPrivacy CenterCookiesPrivacyTerms',\n",
       " 'Let Employers Find YouUpload Your Resume']"
      ]
     },
     "metadata": {},
     "execution_count": 3
    }
   ],
   "source": [
    "full_descriptions[0]"
   ]
  },
  {
   "cell_type": "code",
   "execution_count": 4,
   "metadata": {},
   "outputs": [
    {
     "output_type": "execute_result",
     "data": {
      "text/plain": [
       "['https://www.indeed.com/pagead/clk?mo=r&ad=-6NYlbfkN0B9JzWmK0GDxRzYzuZf9xSyXN8pQP8ihv6GH-rkAji3LyaR-hLXYB_NfHRnutLWTuqKBdImdeUix5pYB3Uv4mWnHLZlzd5py00o1lMFznkqSTkX2n8aY8mwnVhJALIJXce_3bj6Yi5-UDH-VhWVn3o6zeb2Pm8VmBf7XYjX1VtegdAjZT8a4_WKwDfEsXd9omn4bWOrT_JaySjXBwurc2VWxKvknbpPgFLl-xeATOtoqRg_JI6VzvfAiynoNU5WmzalQ4WGzdRZBfBsctmqmlQMVCptdlEV5gO-_4sJnWRCaeQ5Y6MJCRbsIr3axOHfvtV6AEfOqf3uJKpJIlAJiMzve7JwwKiRNA_6KUSGskwoRhMQz1U2ekBKjEKdNk0Lu6v6GkLcuZpC0qZCgjuwhFpzSRfjO-X3AuThwDcCytmOIQ==&p=0&fvj=1&vjs=3',\n",
       " 'https://www.indeed.com/rc/clk?jk=d300445db544ea1d&fccid=38b4474838e7b7a1&vjs=3',\n",
       " 'https://www.indeed.com/rc/clk?jk=d300445db544ea1d&fccid=38b4474838e7b7a1&vjs=3',\n",
       " 'https://www.indeed.com/rc/clk?jk=d300445db544ea1d&fccid=38b4474838e7b7a1&vjs=3',\n",
       " 'https://www.indeed.com/rc/clk?jk=d300445db544ea1d&fccid=38b4474838e7b7a1&vjs=3']"
      ]
     },
     "metadata": {},
     "execution_count": 4
    }
   ],
   "source": [
    "job_links[0:5]"
   ]
  },
  {
   "cell_type": "code",
   "execution_count": 5,
   "metadata": {},
   "outputs": [],
   "source": [
    "# for link in job_links:\n",
    "    \n",
    "#     driver.get(link)\n",
    "#     jd = driver.find_element_by_xpath('//div[@id=\"jobDescriptionText\"]').text.strip()\n",
    "#     full_descriptions.append(jd)"
   ]
  },
  {
   "cell_type": "code",
   "execution_count": 6,
   "metadata": {},
   "outputs": [
    {
     "output_type": "stream",
     "name": "stdout",
     "text": [
      "Total Jobs Found:\n 15 \n Total Job Links Found:\n 15 \n Total Companies Found:\n 15 \n Total Locations Found:\n 15 \n Total Summaries Found:\n 15 \n Total Full Descriptions Found:\n 15 \n\n"
     ]
    }
   ],
   "source": [
    "print(\"Total Jobs Found:\\n\", len(jobs),\"\\n\",\n",
    "      \"Total Job Links Found:\\n\", len(job_links),\"\\n\",\n",
    "      \"Total Companies Found:\\n\", len(companies),\"\\n\",\n",
    "      \"Total Locations Found:\\n\", len(locations),\"\\n\", \n",
    "      \"Total Summaries Found:\\n\", len(summaries),\"\\n\",\n",
    "      \"Total Full Descriptions Found:\\n\", len(full_descriptions),\"\\n\")"
   ]
  },
  {
   "cell_type": "code",
   "execution_count": null,
   "metadata": {},
   "outputs": [],
   "source": [
    "# # Full Description\n",
    "# for city in city_set:\n",
    "#     for start in range(0, max_results_per_city, 10):\n",
    "#         webdriver_path = config('WEBDRIVER_PATH')\n",
    "#         driver = webdriver.Chrome(webdriver_path)\n",
    "#         wait = WebDriverWait(driver, 10)\n",
    "#         driver.get(\"https://www.indeed.com/jobs?q=\"+search_job+\"&l=\" + str(city) + \"&start=\" + str(start))\n",
    "#         wait.until(EC.presence_of_all_elements_located((By.CLASS_NAME,'jobsearch-SerpJobCard')))\n",
    "#         job_descs = driver.find_elements_by_class_name('jobsearch-SerpJobCard')\n",
    "\n",
    "#         for jd in job_descs:\n",
    "#             time.sleep(8)\n",
    "#             wait.until(EC.element_to_be_clickable((By.CLASS_NAME, 'jobsearch-SerpJobCard')))\n",
    "#             try:  # click on the job card and add its description to descriptions list\n",
    "#                 jd.click()\n",
    "#                 wait.until(EC.presence_of_element_located((By.ID, 'vjs-container')))\n",
    "#                 full_descriptions.append(driver.find_element_by_xpath('//*[@id=\"viewJobSSRRoot\"]').text)\n",
    "#                 # close_popup = driver.find_element_by_xpath('//*[@id=\"popover-x\"]/button')\n",
    "#                 # close_popup.click()\n",
    "#                 # try:\n",
    "#                 #     next_page = driver.find_element_by_xpath('//*[@id=\"resultsCol\"]'.format(i+2))\n",
    "#                 #     next_page.click()\n",
    "#                 # except:\n",
    "#                 #     next_page = driver.find_element_by_xpath('//*[@id=\"resultsCol\"]')\n",
    "#                 #     next_page.click()\n",
    "#             except (ElementClickInterceptedException, TimeoutException):\n",
    "#             # if ElementClickInterceptedException, scroll away and try again\n",
    "#                 driver.execute_script(\"window.scrollTo(0,document.body.scrollHeight);\")\n",
    "#                 jd.click()\n",
    "#                 full_descriptions.append(driver.find_elements_by_xpath('//*[@id=\"viewJobSSRRoot\"]').text)\n",
    "#                 try:\n",
    "#                     next_page = driver.find_element_by_xpath('//*[@id=\"resultsCol\"]'.format(i+2))\n",
    "#                     next_page.click()\n",
    "#                 except:\n",
    "#                     next_page = driver.find_element_by_xpath('//*[@id=\"resultsCol\"]')\n",
    "#                     next_page.click()\n",
    "\n",
    "# print(\"Total Jobs Found:\\n\", len(jobs),\"\\n\",\n",
    "#       \"Total Job Links Found:\\n\", len(job_links),\"\\n\",\n",
    "#       \"Total Companies Found:\\n\", len(companies),\"\\n\",\n",
    "#       \"Total Locations Found:\\n\", len(locations),\"\\n\", \n",
    "#       \"Total Summaries Found:\\n\", len(summaries),\"\\n\",\n",
    "#       \"Total Full Descriptions Found:\\n\", len(full_descriptions),\"\\n\")"
   ]
  },
  {
   "cell_type": "code",
   "execution_count": 7,
   "metadata": {},
   "outputs": [],
   "source": [
    "# jobs = jobs[:-1]\n",
    "# job_links = job_links[:-1]\n",
    "# companies = companies[:-1]\n",
    "# locations = locations[:-1]\n",
    "# summaries = summaries[:-1]"
   ]
  },
  {
   "cell_type": "code",
   "execution_count": 8,
   "metadata": {},
   "outputs": [
    {
     "output_type": "execute_result",
     "data": {
      "text/plain": [
       "['https://www.indeed.com/pagead/clk?mo=r&ad=-6NYlbfkN0B9JzWmK0GDxRzYzuZf9xSyXN8pQP8ihv6GH-rkAji3LyaR-hLXYB_NfHRnutLWTuqKBdImdeUix5pYB3Uv4mWnHLZlzd5py00o1lMFznkqSTkX2n8aY8mwnVhJALIJXce_3bj6Yi5-UDH-VhWVn3o6zeb2Pm8VmBf7XYjX1VtegdAjZT8a4_WKwDfEsXd9omn4bWOrT_JaySjXBwurc2VWxKvknbpPgFLl-xeATOtoqRg_JI6VzvfAiynoNU5WmzalQ4WGzdRZBfBsctmqmlQMVCptdlEV5gO-_4sJnWRCaeQ5Y6MJCRbsIr3axOHfvtV6AEfOqf3uJKpJIlAJiMzve7JwwKiRNA_6KUSGskwoRhMQz1U2ekBKjEKdNk0Lu6v6GkLcuZpC0qZCgjuwhFpzSRfjO-X3AuThwDcCytmOIQ==&p=0&fvj=1&vjs=3',\n",
       " 'https://www.indeed.com/rc/clk?jk=d300445db544ea1d&fccid=38b4474838e7b7a1&vjs=3',\n",
       " 'https://www.indeed.com/rc/clk?jk=d300445db544ea1d&fccid=38b4474838e7b7a1&vjs=3',\n",
       " 'https://www.indeed.com/rc/clk?jk=d300445db544ea1d&fccid=38b4474838e7b7a1&vjs=3',\n",
       " 'https://www.indeed.com/rc/clk?jk=d300445db544ea1d&fccid=38b4474838e7b7a1&vjs=3']"
      ]
     },
     "metadata": {},
     "execution_count": 8
    }
   ],
   "source": [
    "job_links[0:5]"
   ]
  },
  {
   "cell_type": "code",
   "execution_count": 10,
   "metadata": {
    "scrolled": true
   },
   "outputs": [
    {
     "output_type": "stream",
     "name": "stdout",
     "text": [
      "(15, 6)\n"
     ]
    },
    {
     "output_type": "execute_result",
     "data": {
      "text/plain": [
       "       job_titles                                          job_links  \\\n",
       "0  Data Scientist  https://www.indeed.com/pagead/clk?mo=r&ad=-6NY...   \n",
       "1  Data Scientist  https://www.indeed.com/rc/clk?jk=d300445db544e...   \n",
       "2  Data Scientist  https://www.indeed.com/rc/clk?jk=d300445db544e...   \n",
       "3  Data Scientist  https://www.indeed.com/rc/clk?jk=d300445db544e...   \n",
       "4  Data Scientist  https://www.indeed.com/rc/clk?jk=d300445db544e...   \n",
       "\n",
       "    company        location  \\\n",
       "0  Quiq Inc   United States   \n",
       "1       ABB  Greenville, SC   \n",
       "2       ABB  Greenville, SC   \n",
       "3       ABB  Greenville, SC   \n",
       "4       ABB  Greenville, SC   \n",
       "\n",
       "                                             summary  \\\n",
       "0  Values the ideal solution and the pragmatic so...   \n",
       "1  Bachelors Degree AND 3 years of experience in ...   \n",
       "2  Bachelors Degree AND 3 years of experience in ...   \n",
       "3  Bachelors Degree AND 3 years of experience in ...   \n",
       "4  Bachelors Degree AND 3 years of experience in ...   \n",
       "\n",
       "                                    full_description  \n",
       "0  [Skip to main contentIndeed HomeFind jobsCompa...  \n",
       "1  [Skip to main contentIndeed HomeFind jobsCompa...  \n",
       "2  [Skip to main contentIndeed HomeFind jobsCompa...  \n",
       "3  [Skip to main contentIndeed HomeFind jobsCompa...  \n",
       "4  [Skip to main contentIndeed HomeFind jobsCompa...  "
      ],
      "text/html": "<div>\n<style scoped>\n    .dataframe tbody tr th:only-of-type {\n        vertical-align: middle;\n    }\n\n    .dataframe tbody tr th {\n        vertical-align: top;\n    }\n\n    .dataframe thead th {\n        text-align: right;\n    }\n</style>\n<table border=\"1\" class=\"dataframe\">\n  <thead>\n    <tr style=\"text-align: right;\">\n      <th></th>\n      <th>job_titles</th>\n      <th>job_links</th>\n      <th>company</th>\n      <th>location</th>\n      <th>summary</th>\n      <th>full_description</th>\n    </tr>\n  </thead>\n  <tbody>\n    <tr>\n      <th>0</th>\n      <td>Data Scientist</td>\n      <td>https://www.indeed.com/pagead/clk?mo=r&amp;ad=-6NY...</td>\n      <td>Quiq Inc</td>\n      <td>United States</td>\n      <td>Values the ideal solution and the pragmatic so...</td>\n      <td>[Skip to main contentIndeed HomeFind jobsCompa...</td>\n    </tr>\n    <tr>\n      <th>1</th>\n      <td>Data Scientist</td>\n      <td>https://www.indeed.com/rc/clk?jk=d300445db544e...</td>\n      <td>ABB</td>\n      <td>Greenville, SC</td>\n      <td>Bachelors Degree AND 3 years of experience in ...</td>\n      <td>[Skip to main contentIndeed HomeFind jobsCompa...</td>\n    </tr>\n    <tr>\n      <th>2</th>\n      <td>Data Scientist</td>\n      <td>https://www.indeed.com/rc/clk?jk=d300445db544e...</td>\n      <td>ABB</td>\n      <td>Greenville, SC</td>\n      <td>Bachelors Degree AND 3 years of experience in ...</td>\n      <td>[Skip to main contentIndeed HomeFind jobsCompa...</td>\n    </tr>\n    <tr>\n      <th>3</th>\n      <td>Data Scientist</td>\n      <td>https://www.indeed.com/rc/clk?jk=d300445db544e...</td>\n      <td>ABB</td>\n      <td>Greenville, SC</td>\n      <td>Bachelors Degree AND 3 years of experience in ...</td>\n      <td>[Skip to main contentIndeed HomeFind jobsCompa...</td>\n    </tr>\n    <tr>\n      <th>4</th>\n      <td>Data Scientist</td>\n      <td>https://www.indeed.com/rc/clk?jk=d300445db544e...</td>\n      <td>ABB</td>\n      <td>Greenville, SC</td>\n      <td>Bachelors Degree AND 3 years of experience in ...</td>\n      <td>[Skip to main contentIndeed HomeFind jobsCompa...</td>\n    </tr>\n  </tbody>\n</table>\n</div>"
     },
     "metadata": {},
     "execution_count": 10
    }
   ],
   "source": [
    "import pandas as pd\n",
    "\n",
    "df_jobs = pd.DataFrame()\n",
    "df_jobs['job_titles'] = jobs\n",
    "df_jobs['job_links'] = job_links\n",
    "df_jobs['company'] = companies\n",
    "df_jobs['location'] = locations\n",
    "df_jobs['summary'] = summaries\n",
    "df_jobs['full_description'] = full_descriptions\n",
    "\n",
    "df_jobs.loc[df_jobs.astype(str).drop_duplicates().index]\n",
    "\n",
    "print(df_jobs.shape)\n",
    "df_jobs.head()"
   ]
  },
  {
   "cell_type": "code",
   "execution_count": 13,
   "metadata": {
    "scrolled": true
   },
   "outputs": [],
   "source": [
    "import os\n",
    "\n",
    "parent_dir = os.getcwd()\n",
    "\n",
    "if os.path.isdir('Result-Files'):\n",
    "    output_folder = 'Result-Files'\n",
    "else:\n",
    "    output_folder= os.mkdir('Result-Files')\n",
    "\n",
    "output_dir = os.path.join(parent_dir, output_folder)\n",
    "file_name = input(\"Enter filename:\\n\")\n",
    "df_jobs.to_excel(output_dir + '\\\\' + file_name + '.xlsx', index=False)"
   ]
  },
  {
   "cell_type": "code",
   "execution_count": null,
   "metadata": {},
   "outputs": [],
   "source": []
  }
 ],
 "metadata": {
  "kernelspec": {
   "display_name": "Python 3.9.1 (job_search_scrape)",
   "language": "python",
   "name": "job_search_scrape"
  },
  "language_info": {
   "codemirror_mode": {
    "name": "ipython",
    "version": 3
   },
   "file_extension": ".py",
   "mimetype": "text/x-python",
   "name": "python",
   "nbconvert_exporter": "python",
   "pygments_lexer": "ipython3",
   "version": "3.9.1-final"
  }
 },
 "nbformat": 4,
 "nbformat_minor": 4
}