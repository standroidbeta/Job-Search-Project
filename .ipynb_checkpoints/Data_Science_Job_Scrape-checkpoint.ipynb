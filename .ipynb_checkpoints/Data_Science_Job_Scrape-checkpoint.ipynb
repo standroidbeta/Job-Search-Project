{
 "cells": [
  {
   "cell_type": "code",
   "execution_count": 1,
   "metadata": {
    "collapsed": true
   },
   "outputs": [
    {
     "ename": "SyntaxError",
     "evalue": "invalid non-printable character U+00A0 (<ipython-input-1-1f2ccb15a4ae>, line 21)",
     "output_type": "error",
     "traceback": [
      "\u001B[1;36m  File \u001B[1;32m\"<ipython-input-1-1f2ccb15a4ae>\"\u001B[1;36m, line \u001B[1;32m21\u001B[0m\n\u001B[1;33m    for start in range(0, max_results_per_city, 10):\u001B[0m\n\u001B[1;37m    ^\u001B[0m\n\u001B[1;31mSyntaxError\u001B[0m\u001B[1;31m:\u001B[0m invalid non-printable character U+00A0\n"
     ]
    }
   ],
   "source": [
    "import requests\n",
    "import bs4\n",
    "from bs4 import BeautifulSoup\n",
    "import time\n",
    "\n",
    "jobs = []\n",
    "companies = []\n",
    "locations = []\n",
    "summaries = []\n",
    "\n",
    "max_results_per_city = 100\n",
    "\n",
    "city_set = ['Charlotte', 'Virgina']\n",
    "# city_set = ['New+York','Chicago','San+Francisco', 'Austin', 'Seattle', 'Los+Angeles',\n",
    "#             'Philadelphia', 'Atlanta', 'Dallas', 'Pittsburgh', 'Portland', 'Phoenix',\n",
    "#             'Denver', 'Houston', 'Miami', 'Washington+DC', 'Boulder', 'Greenville',\n",
    "#             'Columbia', 'Charleston', 'Charlotte', 'Savannah','Spartanburg', 'Anderson',\n",
    "#            'Fort+Wayne', 'Indianapolis']\n",
    "\n",
    "for city in city_set:\n",
    "      for start in range(0, max_results_per_city, 10):\n",
    "        page = requests.get(\"https://www.indeed.com/jobs?q=data+scientist&l=\"\n",
    "                            + str(city) + \"&start=\" + str(start))\n",
    "        time.sleep(1)                      \n",
    "        soup = BeautifulSoup(page.text, \"lxml\")\n",
    "        # for each row\n",
    "        for div in soup.find_all(name=\"div\", attrs={\"class\":\"row\"}):\n",
    "            # Job title\n",
    "            for i in div.findAll(name=\"a\", attrs={\"data-tn-element\":\"jobTitle\"}):\n",
    "                job_title = i[\"title\"]\n",
    "                if len(job_title) > 0:\n",
    "                    jobs.append(job_title)\n",
    "                else:\n",
    "                    jobs.append('not found')\n",
    "            # Company    \n",
    "            for i in div.findAll(name=\"span\", attrs={\"class\":\"company\"}):\n",
    "                company = i.text\n",
    "                if len(company) > 0:\n",
    "                    companies.append(company)\n",
    "                else:\n",
    "                    companies.append('not found')\n",
    "            # Location    \n",
    "            for i in div.findAll(\"div\", attrs={\"class\": \"recJobLoc\"}):\n",
    "                location = i['data-rc-loc']\n",
    "                if len(location) > 0:\n",
    "                    locations.append(location)\n",
    "                else:\n",
    "                    location.append('not found')\n",
    "            # Summary  \n",
    "            for i in div.findAll(\"div\", attrs={\"class\": \"summary\"}):\n",
    "                summary = i.text\n",
    "                if len(summary) > 0:\n",
    "                    summaries.append(summary)\n",
    "                else:\n",
    "                    summary.append('not found')\n",
    "\n",
    "print(len(jobs), len(companies), len(locations), len(summaries))\n"
   ]
  }
 ],
 "metadata": {
  "kernelspec": {
   "name": "pycharm-d8a9ae11",
   "language": "python",
   "display_name": "PyCharm (Job-Search-Project)"
  },
  "language_info": {
   "codemirror_mode": {
    "name": "ipython",
    "version": 2
   },
   "file_extension": ".py",
   "mimetype": "text/x-python",
   "name": "python",
   "nbconvert_exporter": "python",
   "pygments_lexer": "ipython2",
   "version": "2.7.6"
  }
 },
 "nbformat": 4,
 "nbformat_minor": 0
}